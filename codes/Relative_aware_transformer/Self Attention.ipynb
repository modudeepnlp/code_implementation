{
 "cells": [
  {
   "cell_type": "markdown",
   "metadata": {},
   "source": [
    "# Self Attention"
   ]
  },
  {
   "cell_type": "code",
   "execution_count": 24,
   "metadata": {},
   "outputs": [],
   "source": [
    "import numpy as np\n",
    "import tensorflow as tf\n",
    "\n",
    "N, T, H = 2, 5, 4 # batch , input sequence, depth\n",
    "\n",
    "q = np.random.randn(N, T, H)\n",
    "k = np.random.randn(N, T, H)\n",
    "v = np.random.randn(N, T, H)"
   ]
  },
  {
   "cell_type": "code",
   "execution_count": 4,
   "metadata": {},
   "outputs": [
    {
     "data": {
      "text/plain": [
       "array([[[ 0.59641222,  0.29192076,  1.65758377,  0.60738342],\n",
       "        [-0.80105144,  0.31254426,  0.67566816,  0.30903644],\n",
       "        [ 0.89412843,  0.7964775 , -0.71589043, -0.10858141],\n",
       "        [-0.08461935,  1.81644472, -1.33351341, -1.92902407],\n",
       "        [-0.1408378 ,  0.98023911,  1.39935178,  0.40900229]],\n",
       "\n",
       "       [[ 0.82112898, -0.07530333,  0.70546064, -1.37094797],\n",
       "        [ 0.63093648, -1.19575256, -0.61363914, -0.1916463 ],\n",
       "        [-0.75647968, -0.24021144, -0.99234239,  0.7200702 ],\n",
       "        [-2.52161559,  1.59088763, -0.4302778 , -0.71666891],\n",
       "        [ 0.68287922, -1.80145922, -0.02655354,  0.43270632]]])"
      ]
     },
     "execution_count": 4,
     "metadata": {},
     "output_type": "execute_result"
    }
   ],
   "source": [
    "q"
   ]
  },
  {
   "cell_type": "code",
   "execution_count": 13,
   "metadata": {},
   "outputs": [
    {
     "name": "stdout",
     "output_type": "stream",
     "text": [
      "(2, 5, 4)\n"
     ]
    }
   ],
   "source": [
    "print(q.shape)"
   ]
  },
  {
   "cell_type": "code",
   "execution_count": 10,
   "metadata": {},
   "outputs": [
    {
     "data": {
      "text/plain": [
       "array([[[ 0.22028598,  0.13767771,  1.87252226,  0.84355956],\n",
       "        [ 0.11609914,  0.641693  , -0.03213982,  0.6524826 ],\n",
       "        [ 0.99304953,  0.4958852 ,  0.33645358,  0.18876828],\n",
       "        [-0.29339575,  0.34266992,  0.69612415, -1.64442795],\n",
       "        [ 1.75409915,  1.73073811, -0.70049952, -0.03235617]],\n",
       "\n",
       "       [[-0.15682706, -0.93323354, -1.56344865, -1.1873559 ],\n",
       "        [-1.07721556, -0.39005687,  0.70816858,  0.60689824],\n",
       "        [-0.66081108,  0.30119615, -0.0947973 , -0.26841992],\n",
       "        [ 0.77367271,  2.24286875,  0.46087014,  0.95203871],\n",
       "        [-0.14086392, -0.35603722,  1.01153992, -1.00753351]]])"
      ]
     },
     "execution_count": 10,
     "metadata": {},
     "output_type": "execute_result"
    }
   ],
   "source": [
    "k"
   ]
  },
  {
   "cell_type": "code",
   "execution_count": 14,
   "metadata": {},
   "outputs": [
    {
     "name": "stdout",
     "output_type": "stream",
     "text": [
      "(2, 5, 4)\n"
     ]
    }
   ],
   "source": [
    "print(k.shape)"
   ]
  },
  {
   "cell_type": "code",
   "execution_count": 11,
   "metadata": {},
   "outputs": [
    {
     "data": {
      "text/plain": [
       "array([[[-1.22393531e-01,  1.45104037e+00,  1.87216198e+00,\n",
       "          9.35533306e-01,  1.34823363e+00],\n",
       "        [-2.56760127e-01,  5.49293230e-01, -9.59433982e-01,\n",
       "         -3.50311391e-01,  5.22334375e-01],\n",
       "        [ 6.45748396e-01, -2.28097047e-01,  2.21607632e+00,\n",
       "          1.37593929e+00,  3.93360740e-03],\n",
       "        [ 3.87043516e+00, -3.70545491e+00, -1.92064134e+00,\n",
       "          2.62676363e+00,  2.50487604e-02],\n",
       "        [ 3.96230101e-01,  9.30688868e-01,  6.73179046e-01,\n",
       "          1.04763078e+00,  1.43062374e+00]],\n",
       "\n",
       "       [[-1.47147395e+00, -8.15875134e-01, -2.95590314e-01,\n",
       "         -7.29724041e-01,  7.99187779e-01],\n",
       "        [ 2.43180222e-01, -1.24389646e+00, -2.11865956e+00,\n",
       "         -1.52914955e+00, -1.12952855e+00],\n",
       "        [ 9.91938678e-01,  7.00794570e-01,  1.28132245e-02,\n",
       "         -4.40368998e-01, -4.40294914e-01],\n",
       "        [-8.66586473e-01,  3.69632080e+00,  4.83019001e+00,\n",
       "          2.52783119e-01,  3.71925853e+00],\n",
       "        [ 1.01004798e+00, -1.96684781e+00, -2.33555232e+00,\n",
       "          7.57747158e-01, -1.72640455e+00]]])"
      ]
     },
     "execution_count": 11,
     "metadata": {},
     "output_type": "execute_result"
    }
   ],
   "source": [
    "matmul_qk = np.matmul(q, k.reshape(N, H, T))\n",
    "matmul_qk"
   ]
  },
  {
   "cell_type": "code",
   "execution_count": 15,
   "metadata": {},
   "outputs": [
    {
     "name": "stdout",
     "output_type": "stream",
     "text": [
      "(2, 5, 5)\n"
     ]
    }
   ],
   "source": [
    "print(matmul_qk.shape)"
   ]
  },
  {
   "cell_type": "code",
   "execution_count": 20,
   "metadata": {},
   "outputs": [
    {
     "data": {
      "text/plain": [
       "4.0"
      ]
     },
     "execution_count": 20,
     "metadata": {},
     "output_type": "execute_result"
    }
   ],
   "source": [
    "dk = float(k.shape[-1])\n",
    "dk"
   ]
  },
  {
   "cell_type": "code",
   "execution_count": 23,
   "metadata": {},
   "outputs": [
    {
     "data": {
      "text/plain": [
       "2.0"
      ]
     },
     "execution_count": 23,
     "metadata": {},
     "output_type": "execute_result"
    }
   ],
   "source": [
    "np.sqrt(dk)"
   ]
  },
  {
   "cell_type": "code",
   "execution_count": 22,
   "metadata": {},
   "outputs": [
    {
     "data": {
      "text/plain": [
       "array([[[-6.11967657e-02,  7.25520187e-01,  9.36080991e-01,\n",
       "          4.67766653e-01,  6.74116814e-01],\n",
       "        [-1.28380063e-01,  2.74646615e-01, -4.79716991e-01,\n",
       "         -1.75155696e-01,  2.61167187e-01],\n",
       "        [ 3.22874198e-01, -1.14048523e-01,  1.10803816e+00,\n",
       "          6.87969647e-01,  1.96680370e-03],\n",
       "        [ 1.93521758e+00, -1.85272746e+00, -9.60320670e-01,\n",
       "          1.31338181e+00,  1.25243802e-02],\n",
       "        [ 1.98115051e-01,  4.65344434e-01,  3.36589523e-01,\n",
       "          5.23815390e-01,  7.15311872e-01]],\n",
       "\n",
       "       [[-7.35736977e-01, -4.07937567e-01, -1.47795157e-01,\n",
       "         -3.64862021e-01,  3.99593890e-01],\n",
       "        [ 1.21590111e-01, -6.21948228e-01, -1.05932978e+00,\n",
       "         -7.64574775e-01, -5.64764275e-01],\n",
       "        [ 4.95969339e-01,  3.50397285e-01,  6.40661224e-03,\n",
       "         -2.20184499e-01, -2.20147457e-01],\n",
       "        [-4.33293236e-01,  1.84816040e+00,  2.41509501e+00,\n",
       "          1.26391559e-01,  1.85962926e+00],\n",
       "        [ 5.05023990e-01, -9.83423905e-01, -1.16777616e+00,\n",
       "          3.78873579e-01, -8.63202276e-01]]])"
      ]
     },
     "execution_count": 22,
     "metadata": {},
     "output_type": "execute_result"
    }
   ],
   "source": [
    "scaled_attention_logits =  matmul_qk / np.sqrt(dk)\n",
    "scaled_attention_logits"
   ]
  },
  {
   "cell_type": "code",
   "execution_count": 25,
   "metadata": {},
   "outputs": [
    {
     "name": "stdout",
     "output_type": "stream",
     "text": [
      "[[[0.10319518 0.22663462 0.27975101 0.17513999 0.21527919]\n",
      "  [0.17759759 0.26574758 0.1249837  0.16948164 0.26218949]\n",
      "  [0.16652984 0.10758183 0.36516105 0.23991147 0.12081581]\n",
      "  [0.56783279 0.01285692 0.0313837  0.30490225 0.08302434]\n",
      "  [0.1534406  0.2004456  0.17622965 0.21251527 0.25736887]]\n",
      "\n",
      " [[0.11429362 0.15862932 0.20576044 0.16561167 0.35570496]\n",
      "  [0.37063578 0.17621089 0.11378378 0.15278855 0.186581  ]\n",
      "  [0.28946107 0.25024708 0.17740905 0.14143878 0.14144402]\n",
      "  [0.02518587 0.24659239 0.43470661 0.04407831 0.24943681]\n",
      "  [0.39223627 0.08853664 0.07363086 0.34574931 0.09984691]]]\n"
     ]
    }
   ],
   "source": [
    "sess = tf.Session()\n",
    "attention_weights = sess.run(tf.nn.softmax(scaled_attention_logits, axis=-1))\n",
    "print(attention_weights)"
   ]
  },
  {
   "cell_type": "code",
   "execution_count": 26,
   "metadata": {},
   "outputs": [
    {
     "name": "stdout",
     "output_type": "stream",
     "text": [
      "(2, 5, 5)\n"
     ]
    }
   ],
   "source": [
    "print(attention_weights.shape)"
   ]
  },
  {
   "cell_type": "code",
   "execution_count": 28,
   "metadata": {},
   "outputs": [
    {
     "name": "stdout",
     "output_type": "stream",
     "text": [
      "(2, 5, 4)\n"
     ]
    }
   ],
   "source": [
    "print(v.shape)"
   ]
  },
  {
   "cell_type": "code",
   "execution_count": 27,
   "metadata": {},
   "outputs": [],
   "source": [
    "output = np.matmul(attention_weights, v)"
   ]
  },
  {
   "cell_type": "code",
   "execution_count": 29,
   "metadata": {},
   "outputs": [
    {
     "data": {
      "text/plain": [
       "array([[[-0.07939323, -0.15935349, -0.19490156,  0.11625798],\n",
       "        [-0.00082643, -0.1515821 , -0.09686108, -0.00134341],\n",
       "        [-0.34386061,  0.09591573, -0.01413872,  0.39624407],\n",
       "        [-0.66140086,  0.60158463,  0.66712758,  0.46150022],\n",
       "        [ 0.03953924, -0.06833828,  0.00601989,  0.14311222]],\n",
       "\n",
       "       [[-0.42639977, -0.49941027,  0.09540025,  0.18382404],\n",
       "        [-0.2978336 , -0.44208167,  0.2301905 ,  0.13345014],\n",
       "        [-0.2298067 , -0.5190628 ,  0.24181928,  0.12141258],\n",
       "        [-0.01631294, -0.48625696, -0.09981569,  0.16832289],\n",
       "        [-0.2796786 , -0.62693277, -0.02418607,  0.03086148]]])"
      ]
     },
     "execution_count": 29,
     "metadata": {},
     "output_type": "execute_result"
    }
   ],
   "source": [
    "output"
   ]
  },
  {
   "cell_type": "code",
   "execution_count": 30,
   "metadata": {},
   "outputs": [
    {
     "name": "stdout",
     "output_type": "stream",
     "text": [
      "(2, 5, 4)\n"
     ]
    }
   ],
   "source": [
    "print(output.shape)"
   ]
  },
  {
   "cell_type": "markdown",
   "metadata": {},
   "source": [
    "# MultiHeadAttention"
   ]
  },
  {
   "cell_type": "code",
   "execution_count": 33,
   "metadata": {},
   "outputs": [],
   "source": [
    "import numpy as np\n",
    "import tensorflow as tf\n",
    "\n",
    "N, T, D, H = 2, 4, 4, 2 # batch , input sequence, depth, header\n",
    "\n",
    "q = np.random.randn(N, T, D) # 2, 4, 4"
   ]
  },
  {
   "cell_type": "code",
   "execution_count": 34,
   "metadata": {},
   "outputs": [
    {
     "data": {
      "text/plain": [
       "array([[[ 0.10544277, -0.25627659, -0.69052493,  0.64886089],\n",
       "        [ 1.07242887,  1.05167044,  0.19835209, -0.0894516 ],\n",
       "        [-0.64753788,  0.83136177, -2.11615098,  1.25652139],\n",
       "        [-0.43685542,  1.97077745, -0.65025585,  0.4646764 ]],\n",
       "\n",
       "       [[-0.59013384,  2.14572583,  1.3685756 ,  0.48942489],\n",
       "        [-1.56980084, -1.13119583, -0.1153764 ,  0.56305439],\n",
       "        [-1.31285044,  0.40459276,  1.24713549,  1.29672154],\n",
       "        [ 1.66418026, -0.14275827,  0.61299286, -0.0420705 ]]])"
      ]
     },
     "execution_count": 34,
     "metadata": {},
     "output_type": "execute_result"
    }
   ],
   "source": [
    "q"
   ]
  },
  {
   "cell_type": "code",
   "execution_count": 36,
   "metadata": {},
   "outputs": [
    {
     "name": "stdout",
     "output_type": "stream",
     "text": [
      "(2, 4, 4)\n"
     ]
    }
   ],
   "source": [
    "print(q.shape)"
   ]
  },
  {
   "cell_type": "markdown",
   "metadata": {},
   "source": [
    "### header로 sequence를 나눈다. "
   ]
  },
  {
   "cell_type": "code",
   "execution_count": 39,
   "metadata": {},
   "outputs": [
    {
     "data": {
      "text/plain": [
       "array([[[[ 0.10544277, -0.25627659, -0.69052493,  0.64886089],\n",
       "         [ 1.07242887,  1.05167044,  0.19835209, -0.0894516 ]],\n",
       "\n",
       "        [[-0.64753788,  0.83136177, -2.11615098,  1.25652139],\n",
       "         [-0.43685542,  1.97077745, -0.65025585,  0.4646764 ]]],\n",
       "\n",
       "\n",
       "       [[[-0.59013384,  2.14572583,  1.3685756 ,  0.48942489],\n",
       "         [-1.56980084, -1.13119583, -0.1153764 ,  0.56305439]],\n",
       "\n",
       "        [[-1.31285044,  0.40459276,  1.24713549,  1.29672154],\n",
       "         [ 1.66418026, -0.14275827,  0.61299286, -0.0420705 ]]]])"
      ]
     },
     "execution_count": 39,
     "metadata": {},
     "output_type": "execute_result"
    }
   ],
   "source": [
    "x = q.reshape(N, -1, H, D) # batch , sequence, header, depth\n",
    "x"
   ]
  },
  {
   "cell_type": "code",
   "execution_count": 40,
   "metadata": {},
   "outputs": [
    {
     "name": "stdout",
     "output_type": "stream",
     "text": [
      "(2, 2, 2, 4)\n"
     ]
    }
   ],
   "source": [
    "print(x.shape)"
   ]
  },
  {
   "cell_type": "code",
   "execution_count": 41,
   "metadata": {},
   "outputs": [
    {
     "data": {
      "text/plain": [
       "array([[[[ 0.10544277, -0.25627659, -0.69052493,  0.64886089],\n",
       "         [-0.64753788,  0.83136177, -2.11615098,  1.25652139]],\n",
       "\n",
       "        [[ 1.07242887,  1.05167044,  0.19835209, -0.0894516 ],\n",
       "         [-0.43685542,  1.97077745, -0.65025585,  0.4646764 ]]],\n",
       "\n",
       "\n",
       "       [[[-0.59013384,  2.14572583,  1.3685756 ,  0.48942489],\n",
       "         [-1.31285044,  0.40459276,  1.24713549,  1.29672154]],\n",
       "\n",
       "        [[-1.56980084, -1.13119583, -0.1153764 ,  0.56305439],\n",
       "         [ 1.66418026, -0.14275827,  0.61299286, -0.0420705 ]]]])"
      ]
     },
     "execution_count": 41,
     "metadata": {},
     "output_type": "execute_result"
    }
   ],
   "source": [
    "np.transpose(x, (0, 2, 1, 3)) # batch, header, sequence, depth"
   ]
  },
  {
   "cell_type": "markdown",
   "metadata": {},
   "source": [
    "### header와 sequence로 나눈걸 다시 붙인다. "
   ]
  },
  {
   "cell_type": "code",
   "execution_count": 43,
   "metadata": {},
   "outputs": [
    {
     "data": {
      "text/plain": [
       "array([[[ 0.10544277, -0.25627659, -0.69052493,  0.64886089],\n",
       "        [ 1.07242887,  1.05167044,  0.19835209, -0.0894516 ],\n",
       "        [-0.64753788,  0.83136177, -2.11615098,  1.25652139],\n",
       "        [-0.43685542,  1.97077745, -0.65025585,  0.4646764 ]],\n",
       "\n",
       "       [[-0.59013384,  2.14572583,  1.3685756 ,  0.48942489],\n",
       "        [-1.56980084, -1.13119583, -0.1153764 ,  0.56305439],\n",
       "        [-1.31285044,  0.40459276,  1.24713549,  1.29672154],\n",
       "        [ 1.66418026, -0.14275827,  0.61299286, -0.0420705 ]]])"
      ]
     },
     "execution_count": 43,
     "metadata": {},
     "output_type": "execute_result"
    }
   ],
   "source": [
    "con = np.reshape(x, (N, -1, D))\n",
    "con"
   ]
  },
  {
   "cell_type": "code",
   "execution_count": 44,
   "metadata": {},
   "outputs": [
    {
     "name": "stdout",
     "output_type": "stream",
     "text": [
      "(2, 4, 4)\n"
     ]
    }
   ],
   "source": [
    "print(con.shape)"
   ]
  },
  {
   "cell_type": "code",
   "execution_count": null,
   "metadata": {},
   "outputs": [],
   "source": []
  }
 ],
 "metadata": {
  "kernelspec": {
   "display_name": "Python 2",
   "language": "python",
   "name": "python2"
  },
  "language_info": {
   "codemirror_mode": {
    "name": "ipython",
    "version": 2
   },
   "file_extension": ".py",
   "mimetype": "text/x-python",
   "name": "python",
   "nbconvert_exporter": "python",
   "pygments_lexer": "ipython2",
   "version": "2.7.15"
  }
 },
 "nbformat": 4,
 "nbformat_minor": 2
}
