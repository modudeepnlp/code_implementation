{
 "cells": [
  {
   "cell_type": "markdown",
   "metadata": {},
   "source": [
    "# Self-Attention with Relative Position Representations 구현 보충 설명\n",
    "\n",
    "### 이름 : 전은영\n",
    " \n",
    "### 코드 출처 : [tensor2tensor](https://github.com/tensorflow/tensor2tensor/tree/9e0a894034d8090892c238df1bd9bd3180c2b9a3/tensor2tensor)"
   ]
  },
  {
   "cell_type": "markdown",
   "metadata": {},
   "source": [
    "## 구현할 것\n",
    "\n",
    "- Relative Position Representation(embeddings) : RPR이라 칭하겠다\n",
    "    - relation key, relation value 두 개 존재\n",
    "\n",
    "- e 행렬 효율적으로 구하기 (행렬 곱 이용)\n",
    "\n",
    "이 문서에서 설명은 relation key 부분만 하겠다"
   ]
  },
  {
   "cell_type": "markdown",
   "metadata": {},
   "source": [
    "# 필요한 패키지 import :"
   ]
  },
  {
   "cell_type": "code",
   "execution_count": 1,
   "metadata": {},
   "outputs": [],
   "source": [
    "import numpy as np"
   ]
  },
  {
   "cell_type": "markdown",
   "metadata": {},
   "source": [
    "# Hyperparameter 설정 :\n",
    "\n",
    "- b : batch size\n",
    "- h : head 개수\n",
    "- n : 한 sequence의 길이 (단어 개수)\n",
    "- dz : RPR 벡터의 길이\n",
    "- k : RPR vocab의 size 지정 (RPR vocab size : 2k+1)"
   ]
  },
  {
   "cell_type": "code",
   "execution_count": 2,
   "metadata": {},
   "outputs": [],
   "source": [
    "b=2\n",
    "h=3\n",
    "n=4\n",
    "dz=5\n",
    "k=2"
   ]
  },
  {
   "cell_type": "markdown",
   "metadata": {},
   "source": [
    "# RPR 구현하기\n",
    "\n",
    "- look-up table : 상대적 위치 임베딩을 RPR vocab에서 몇 번째 임베딩 벡터를 이용할 것인 지(인덱스) 지정해준다.\n",
    "\n",
    "- embedding vocab : 사용할 임베딩의 set. shape는 (vocab_size,dz)\n",
    "  - 논문에서 $w^K,w^V$\n",
    "\n",
    "  ![ak](https://user-images.githubusercontent.com/33515697/59223921-161ae880-8c08-11e9-986d-99fe47e4e85a.png)\n",
    "  - $w^k=(w_{-k}^K,...,w_{k}^K)$ : 실제 구현 시 $w^k=(w_{0}^K,...,w_{2k}^K)$\n",
    "\n",
    "<br>\n",
    "\n",
    "예.\n",
    "\n",
    "relation key look-up table = $\\begin{bmatrix}\n",
    "2 & 3 & 4 & 4\\\\ \n",
    "1 & 2 & 3 & 4\\\\ \n",
    "0 & 1 & 2 & 3\\\\ \n",
    "0 & 0 & 1 & 2\n",
    "\\end{bmatrix}$ \n",
    "\n",
    "$a_{11}^K=w^K_2$ \n",
    "\n",
    ": $a_{11}^K$ 임베딩으로 embedding vocab에서 인덱스가 2인 임베딩을 사용하겠다"
   ]
  },
  {
   "cell_type": "markdown",
   "metadata": {},
   "source": [
    "# Look-up table 구현 :\n",
    "\n",
    "### position_matrix(n,k)\n",
    "\n",
    "인자\n",
    "- n : 한 sequence의 길이\n",
    "- k : RPR vocab의 size 지정 (RPR vocab size : 2k+1)\n",
    "\n",
    "\n",
    "$a_{ij}^K$가 $w_{ind}^K$ 임베딩을 가지는데 여기서 $ind$에 해당하는 부분을 테이블로 만든다\n",
    "\n",
    "$ind=clip(j-i,k)=max(-k,min(j-i,k))$\n",
    "\n",
    "논문에서는 \\[-k,k\\]지만 인덱스로 사용할 것이므로 k를 더해서 \\[0,2k\\]로 범위를 바꿔준다\n",
    "\n",
    "즉, $ind=clip(j-i,k)+k$"
   ]
  },
  {
   "cell_type": "code",
   "execution_count": 3,
   "metadata": {},
   "outputs": [],
   "source": [
    "def position_matrix(n,k):\n",
    "    \n",
    "    range_vec=[i for i in range(n)]\n",
    "    print(\"range_vec:\",range_vec)\n",
    "    \n",
    "    range_mat=np.reshape(np.tile(range_vec,[n]),[n,n])\n",
    "    print(\"range_mat (열의 index, 논문에서 j):\\n\",range_mat)\n",
    "    print(\"range_mat_transpose (행의 index, 논문에서 i):\\n\",np.transpose(range_mat))\n",
    "    \n",
    "    distance_mat=range_mat-np.transpose(range_mat)\n",
    "    print(\"distance_mat (각 원소는 j-i):\\n\",distance_mat)\n",
    "    \n",
    "    distance_mat_clipped=distance_mat\n",
    "    for i in range(n):\n",
    "        for j in range(n):\n",
    "            if distance_mat[i][j]>k:\n",
    "                distance_mat_clipped[i][j]=k\n",
    "            elif distance_mat[i][j]<-k:\n",
    "                distance_mat_clipped[i][j]=-k\n",
    "                \n",
    "    print(\"clipped_mat:\\n\",distance_mat_clipped)\n",
    "    \n",
    "    return distance_mat_clipped+k            "
   ]
  },
  {
   "cell_type": "markdown",
   "metadata": {},
   "source": [
    "position_matrix 함수 확인"
   ]
  },
  {
   "cell_type": "code",
   "execution_count": 4,
   "metadata": {},
   "outputs": [
    {
     "name": "stdout",
     "output_type": "stream",
     "text": [
      "range_vec: [0, 1, 2, 3]\n",
      "range_mat (열의 index, 논문에서 j):\n",
      " [[0 1 2 3]\n",
      " [0 1 2 3]\n",
      " [0 1 2 3]\n",
      " [0 1 2 3]]\n",
      "range_mat_transpose (행의 index, 논문에서 i):\n",
      " [[0 0 0 0]\n",
      " [1 1 1 1]\n",
      " [2 2 2 2]\n",
      " [3 3 3 3]]\n",
      "distance_mat (각 원소는 j-i):\n",
      " [[ 0  1  2  3]\n",
      " [-1  0  1  2]\n",
      " [-2 -1  0  1]\n",
      " [-3 -2 -1  0]]\n",
      "clipped_mat:\n",
      " [[ 0  1  2  2]\n",
      " [-1  0  1  2]\n",
      " [-2 -1  0  1]\n",
      " [-2 -2 -1  0]]\n",
      "최종 look-up table (범위 [0,2k(k=2)])\n",
      " [[2 3 4 4]\n",
      " [1 2 3 4]\n",
      " [0 1 2 3]\n",
      " [0 0 1 2]]\n"
     ]
    }
   ],
   "source": [
    "print(\"최종 look-up table (범위 [0,2k(k=%d)])\\n\"%k,position_matrix(n,k))"
   ]
  },
  {
   "cell_type": "markdown",
   "metadata": {},
   "source": [
    "# RPR 구현 :\n",
    "\n",
    "### position_embedding(n,dz,k)\n",
    "\n",
    "인자\n",
    "- n : 한 sequence의 길이\n",
    "- dz : 하나의 RPR 벡터의 길이\n",
    "- k : RPR vocab의 size 지정 (RPR vocab size : 2k+1)\n",
    "\n",
    "위 그림의 $a^K$ (shape : (n,n,dz) ) 리턴하는 함수"
   ]
  },
  {
   "cell_type": "code",
   "execution_count": 5,
   "metadata": {},
   "outputs": [],
   "source": [
    "def position_embedding(n,dz,k):\n",
    "    \n",
    "    np.random.seed(5)\n",
    "    \n",
    "    # Look-up table 생성 \n",
    "    mat=position_matrix(n,k)\n",
    "    print(\"lookup table:\\n\",mat)\n",
    "    \n",
    "    # RPR vocab_size 지정\n",
    "    vocab_size=k*2+1\n",
    "    \n",
    "    # RPR vocab (tf에서는 variable로 학습)\n",
    "    embeddings_table=np.random.randint(-10, 10, (vocab_size,dz))\n",
    "    \n",
    "    print(\"RPR vocab:\\n\",embeddings_table)\n",
    "    \n",
    "    # 인덱스만 담겨진 Look-up table을 보고, 실제 임베딩 값으로 채우기\n",
    "    embeddings=np.zeros((n,n,dz))\n",
    "    \n",
    "    for i in range(n):\n",
    "        for j in range(n):\n",
    "            # Look-up table에서 index 가져오기\n",
    "            pos=mat[i][j]\n",
    "            embeddings[i][j]=embeddings_table[pos]\n",
    "\n",
    "    print(\"embeddings shape:\",embeddings.shape)\n",
    "    \n",
    "    return embeddings"
   ]
  },
  {
   "cell_type": "markdown",
   "metadata": {},
   "source": [
    "position_embedding 함수 확인"
   ]
  },
  {
   "cell_type": "code",
   "execution_count": 6,
   "metadata": {},
   "outputs": [
    {
     "name": "stdout",
     "output_type": "stream",
     "text": [
      "range_vec: [0, 1, 2, 3]\n",
      "range_mat (열의 index, 논문에서 j):\n",
      " [[0 1 2 3]\n",
      " [0 1 2 3]\n",
      " [0 1 2 3]\n",
      " [0 1 2 3]]\n",
      "range_mat_transpose (행의 index, 논문에서 i):\n",
      " [[0 0 0 0]\n",
      " [1 1 1 1]\n",
      " [2 2 2 2]\n",
      " [3 3 3 3]]\n",
      "distance_mat (각 원소는 j-i):\n",
      " [[ 0  1  2  3]\n",
      " [-1  0  1  2]\n",
      " [-2 -1  0  1]\n",
      " [-3 -2 -1  0]]\n",
      "clipped_mat:\n",
      " [[ 0  1  2  2]\n",
      " [-1  0  1  2]\n",
      " [-2 -1  0  1]\n",
      " [-2 -2 -1  0]]\n",
      "lookup table:\n",
      " [[2 3 4 4]\n",
      " [1 2 3 4]\n",
      " [0 1 2 3]\n",
      " [0 0 1 2]]\n",
      "RPR vocab:\n",
      " [[-7  4  5 -4  6]\n",
      " [-1 -2 -6 -3  6]\n",
      " [ 6 -3  2  5  7]\n",
      " [-3  6  2  3  1]\n",
      " [-9  5  8 -1  0]]\n",
      "embeddings shape: (4, 4, 5)\n"
     ]
    },
    {
     "data": {
      "text/plain": [
       "array([[[ 6., -3.,  2.,  5.,  7.],\n",
       "        [-3.,  6.,  2.,  3.,  1.],\n",
       "        [-9.,  5.,  8., -1.,  0.],\n",
       "        [-9.,  5.,  8., -1.,  0.]],\n",
       "\n",
       "       [[-1., -2., -6., -3.,  6.],\n",
       "        [ 6., -3.,  2.,  5.,  7.],\n",
       "        [-3.,  6.,  2.,  3.,  1.],\n",
       "        [-9.,  5.,  8., -1.,  0.]],\n",
       "\n",
       "       [[-7.,  4.,  5., -4.,  6.],\n",
       "        [-1., -2., -6., -3.,  6.],\n",
       "        [ 6., -3.,  2.,  5.,  7.],\n",
       "        [-3.,  6.,  2.,  3.,  1.]],\n",
       "\n",
       "       [[-7.,  4.,  5., -4.,  6.],\n",
       "        [-7.,  4.,  5., -4.,  6.],\n",
       "        [-1., -2., -6., -3.,  6.],\n",
       "        [ 6., -3.,  2.,  5.,  7.]]])"
      ]
     },
     "execution_count": 6,
     "metadata": {},
     "output_type": "execute_result"
    }
   ],
   "source": [
    "embeddings=position_embedding(n,dz,k)\n",
    "embeddings"
   ]
  },
  {
   "cell_type": "markdown",
   "metadata": {},
   "source": [
    "# e 행렬 효율적으로 구하기\n",
    "\n",
    "e = $\\begin{bmatrix}\n",
    "e_{11} & ... & ... & e_{1n}\\\\ \n",
    "\\vdots  & \\vdots & \\vdots & \\vdots \\\\ \n",
    "\\vdots & \\vdots & \\vdots & \\vdots \\\\ \n",
    "e_{n1} & ... & ... & e_{nn}\n",
    "\\end{bmatrix}$\n",
    "\n",
    "$e_{ij}=\\frac{(x_iW^Q)(x_jW^K+a_{ij}^K)^T}{\\sqrt{d_z}}$\n",
    "\n",
    "행렬의 곱으로 구하는 것이 효율적이다.\n",
    "\n",
    "하지만 지금 형태로는 행렬의 곱으로 표현할 수 없다\n",
    "\n",
    "Transpose를 먼저 적용하면 다음과 같은 식을 얻는다\n",
    "\n",
    "$e_{ij}=\\frac{x_iW^Q(x_jW^K)^T+x_iW^Q(a_{ij}^K)^T}{\\sqrt{d_z}}$\n",
    "\n",
    "- 첫 번째 항은 원래 트랜스포머의 $e_{ij}$ => 행렬의 곱으로 표현가능\n",
    "- 두 번째 항은 하나의 시퀀스에서는 행렬의 곱으로 표현이 불가능하지만, multihead, batch를 사용하면 행렬의 곱으로 구할 수 있다.\n",
    "\n",
    "이 문서에서는 $a^K$를 행렬을 이용하여 행렬의 곱으로 어텐션 구하는 부분만 다루겠다\n",
    "\n",
    "![original eij](https://user-images.githubusercontent.com/33515697/59229122-862f6b80-8c14-11e9-870d-2781be9a5ceb.png)\n",
    "\n",
    "\n",
    "![relative aware transformer](https://user-images.githubusercontent.com/33515697/59229183-b37c1980-8c14-11e9-8b27-eb4b13708ab8.png)"
   ]
  },
  {
   "cell_type": "markdown",
   "metadata": {},
   "source": [
    "정의대로 두 번째 항 행렬을 구한 것과, 논문에서 제시한 방법으로 구한 두 번째 항 행렬을 비교해보겠다."
   ]
  },
  {
   "cell_type": "markdown",
   "metadata": {},
   "source": [
    "# 임의로 input 만들기 :\n",
    "\n",
    "input의 shape는 \\[batch_size,head,depth\\]"
   ]
  },
  {
   "cell_type": "code",
   "execution_count": 7,
   "metadata": {},
   "outputs": [
    {
     "data": {
      "text/plain": [
       "array([[[[  0,   1,   2,   3,   4],\n",
       "         [  5,   6,   7,   8,   9],\n",
       "         [ 10,  11,  12,  13,  14],\n",
       "         [ 15,  16,  17,  18,  19]],\n",
       "\n",
       "        [[ 20,  21,  22,  23,  24],\n",
       "         [ 25,  26,  27,  28,  29],\n",
       "         [ 30,  31,  32,  33,  34],\n",
       "         [ 35,  36,  37,  38,  39]],\n",
       "\n",
       "        [[ 40,  41,  42,  43,  44],\n",
       "         [ 45,  46,  47,  48,  49],\n",
       "         [ 50,  51,  52,  53,  54],\n",
       "         [ 55,  56,  57,  58,  59]]],\n",
       "\n",
       "\n",
       "       [[[ 60,  61,  62,  63,  64],\n",
       "         [ 65,  66,  67,  68,  69],\n",
       "         [ 70,  71,  72,  73,  74],\n",
       "         [ 75,  76,  77,  78,  79]],\n",
       "\n",
       "        [[ 80,  81,  82,  83,  84],\n",
       "         [ 85,  86,  87,  88,  89],\n",
       "         [ 90,  91,  92,  93,  94],\n",
       "         [ 95,  96,  97,  98,  99]],\n",
       "\n",
       "        [[100, 101, 102, 103, 104],\n",
       "         [105, 106, 107, 108, 109],\n",
       "         [110, 111, 112, 113, 114],\n",
       "         [115, 116, 117, 118, 119]]]])"
      ]
     },
     "execution_count": 7,
     "metadata": {},
     "output_type": "execute_result"
    }
   ],
   "source": [
    "x=np.array([i for i in range(b*h*n*dz)]).reshape((b,h,n,dz))\n",
    "x"
   ]
  },
  {
   "cell_type": "markdown",
   "metadata": {},
   "source": [
    "# 정의대로 두 번째 항 행렬 구하기 :"
   ]
  },
  {
   "cell_type": "code",
   "execution_count": 8,
   "metadata": {},
   "outputs": [
    {
     "data": {
      "text/plain": [
       "array([[[[  44.,   23.,   18.,   18.],\n",
       "         [ -29.,  129.,   68.,   33.],\n",
       "         [  66.,  -59.,  214.,  113.],\n",
       "         [  86.,   86.,  -89.,  299.]],\n",
       "\n",
       "        [[ 384.,  203.,   78.,   78.],\n",
       "         [-149.,  469.,  248.,   93.],\n",
       "         [ 146., -179.,  554.,  293.],\n",
       "         [ 166.,  166., -209.,  639.]],\n",
       "\n",
       "        [[ 724.,  383.,  138.,  138.],\n",
       "         [-269.,  809.,  428.,  153.],\n",
       "         [ 226., -299.,  894.,  473.],\n",
       "         [ 246.,  246., -329.,  979.]]],\n",
       "\n",
       "\n",
       "       [[[1064.,  563.,  198.,  198.],\n",
       "         [-389., 1149.,  608.,  213.],\n",
       "         [ 306., -419., 1234.,  653.],\n",
       "         [ 326.,  326., -449., 1319.]],\n",
       "\n",
       "        [[1404.,  743.,  258.,  258.],\n",
       "         [-509., 1489.,  788.,  273.],\n",
       "         [ 386., -539., 1574.,  833.],\n",
       "         [ 406.,  406., -569., 1659.]],\n",
       "\n",
       "        [[1744.,  923.,  318.,  318.],\n",
       "         [-629., 1829.,  968.,  333.],\n",
       "         [ 466., -659., 1914., 1013.],\n",
       "         [ 486.,  486., -689., 1999.]]]])"
      ]
     },
     "execution_count": 8,
     "metadata": {},
     "output_type": "execute_result"
    }
   ],
   "source": [
    "e_by_def=np.zeros((b,h,n,n))\n",
    "\n",
    "for i in range(b):\n",
    "    for j in range(h):\n",
    "        for k in range(n):\n",
    "            q=x[i][j][k]\n",
    "            for l in range(n):\n",
    "                e_by_def[i][j][k][l]=np.dot(q,embeddings[k][l])\n",
    "                \n",
    "e_by_def"
   ]
  },
  {
   "cell_type": "markdown",
   "metadata": {},
   "source": [
    "## 논문에서 제시한 방법으로 e 행렬 구하기\n",
    "\n",
    "- 색칠된 부분은 위치를 시각화 하기 위함입니다 (값이 같은 것 x)\n",
    "\n",
    "![e-1](https://user-images.githubusercontent.com/33515697/59229730-2e91ff80-8c16-11e9-93a0-00c394fbf1c6.png)\n",
    "![e-2](https://user-images.githubusercontent.com/33515697/59229754-3c478500-8c16-11e9-9ab1-b74d60b6bd19.png)\n",
    "![e-3](https://user-images.githubusercontent.com/33515697/59229766-3fdb0c00-8c16-11e9-8622-30c2e9d4fbe0.png)\n"
   ]
  },
  {
   "cell_type": "markdown",
   "metadata": {},
   "source": [
    "# 1. input 준비됐으므로 pass"
   ]
  },
  {
   "cell_type": "markdown",
   "metadata": {},
   "source": [
    "# 2. (b,h,n,dz)를 (n,b,h,dz)로 transpose :\n",
    "\n",
    "batch에서 같은 위치의 길이가 dz인 vector들 끼리 묶인다\n",
    "\n",
    "(즉, i 번째 쿼리 벡터($x_iW^Q$)들 끼리 묶음)"
   ]
  },
  {
   "cell_type": "code",
   "execution_count": 9,
   "metadata": {},
   "outputs": [
    {
     "name": "stdout",
     "output_type": "stream",
     "text": [
      "[[[[  0   1   2   3   4]\n",
      "   [ 20  21  22  23  24]\n",
      "   [ 40  41  42  43  44]]\n",
      "\n",
      "  [[ 60  61  62  63  64]\n",
      "   [ 80  81  82  83  84]\n",
      "   [100 101 102 103 104]]]\n",
      "\n",
      "\n",
      " [[[  5   6   7   8   9]\n",
      "   [ 25  26  27  28  29]\n",
      "   [ 45  46  47  48  49]]\n",
      "\n",
      "  [[ 65  66  67  68  69]\n",
      "   [ 85  86  87  88  89]\n",
      "   [105 106 107 108 109]]]\n",
      "\n",
      "\n",
      " [[[ 10  11  12  13  14]\n",
      "   [ 30  31  32  33  34]\n",
      "   [ 50  51  52  53  54]]\n",
      "\n",
      "  [[ 70  71  72  73  74]\n",
      "   [ 90  91  92  93  94]\n",
      "   [110 111 112 113 114]]]\n",
      "\n",
      "\n",
      " [[[ 15  16  17  18  19]\n",
      "   [ 35  36  37  38  39]\n",
      "   [ 55  56  57  58  59]]\n",
      "\n",
      "  [[ 75  76  77  78  79]\n",
      "   [ 95  96  97  98  99]\n",
      "   [115 116 117 118 119]]]]\n",
      "x_t shape: (4, 2, 3, 5)\n"
     ]
    }
   ],
   "source": [
    "x_t=np.transpose(x,[2,0,1,3])\n",
    "print(x_t)\n",
    "print(\"x_t shape:\",x_t.shape)"
   ]
  },
  {
   "cell_type": "markdown",
   "metadata": {},
   "source": [
    "# 3. (n,b,h,dz)에서 (n,b\\*h,dz)로 reshape :\n",
    "\n",
    "batch 별 head별 분리되어 있는 것을 concat한다"
   ]
  },
  {
   "cell_type": "code",
   "execution_count": 10,
   "metadata": {},
   "outputs": [
    {
     "name": "stdout",
     "output_type": "stream",
     "text": [
      "[[[  0   1   2   3   4]\n",
      "  [ 20  21  22  23  24]\n",
      "  [ 40  41  42  43  44]\n",
      "  [ 60  61  62  63  64]\n",
      "  [ 80  81  82  83  84]\n",
      "  [100 101 102 103 104]]\n",
      "\n",
      " [[  5   6   7   8   9]\n",
      "  [ 25  26  27  28  29]\n",
      "  [ 45  46  47  48  49]\n",
      "  [ 65  66  67  68  69]\n",
      "  [ 85  86  87  88  89]\n",
      "  [105 106 107 108 109]]\n",
      "\n",
      " [[ 10  11  12  13  14]\n",
      "  [ 30  31  32  33  34]\n",
      "  [ 50  51  52  53  54]\n",
      "  [ 70  71  72  73  74]\n",
      "  [ 90  91  92  93  94]\n",
      "  [110 111 112 113 114]]\n",
      "\n",
      " [[ 15  16  17  18  19]\n",
      "  [ 35  36  37  38  39]\n",
      "  [ 55  56  57  58  59]\n",
      "  [ 75  76  77  78  79]\n",
      "  [ 95  96  97  98  99]\n",
      "  [115 116 117 118 119]]]\n",
      "x_t_r shape: (4, 6, 5)\n"
     ]
    }
   ],
   "source": [
    "x_t_r=np.reshape(x_t,[n,b*h,dz])\n",
    "print(x_t_r)\n",
    "print(\"x_t_r shape:\",x_t_r.shape)"
   ]
  },
  {
   "cell_type": "markdown",
   "metadata": {},
   "source": [
    "# 4. 3의 결과와 RPR 행렬 곱하기 :\n",
    "\n",
    "결과는 (n,b\\*h,n)"
   ]
  },
  {
   "cell_type": "code",
   "execution_count": 11,
   "metadata": {},
   "outputs": [
    {
     "name": "stdout",
     "output_type": "stream",
     "text": [
      "[[[  44.   23.   18.   18.]\n",
      "  [ 384.  203.   78.   78.]\n",
      "  [ 724.  383.  138.  138.]\n",
      "  [1064.  563.  198.  198.]\n",
      "  [1404.  743.  258.  258.]\n",
      "  [1744.  923.  318.  318.]]\n",
      "\n",
      " [[ -29.  129.   68.   33.]\n",
      "  [-149.  469.  248.   93.]\n",
      "  [-269.  809.  428.  153.]\n",
      "  [-389. 1149.  608.  213.]\n",
      "  [-509. 1489.  788.  273.]\n",
      "  [-629. 1829.  968.  333.]]\n",
      "\n",
      " [[  66.  -59.  214.  113.]\n",
      "  [ 146. -179.  554.  293.]\n",
      "  [ 226. -299.  894.  473.]\n",
      "  [ 306. -419. 1234.  653.]\n",
      "  [ 386. -539. 1574.  833.]\n",
      "  [ 466. -659. 1914. 1013.]]\n",
      "\n",
      " [[  86.   86.  -89.  299.]\n",
      "  [ 166.  166. -209.  639.]\n",
      "  [ 246.  246. -329.  979.]\n",
      "  [ 326.  326. -449. 1319.]\n",
      "  [ 406.  406. -569. 1659.]\n",
      "  [ 486.  486. -689. 1999.]]]\n",
      "x_t_r_emb_t_matmul shape: (4, 6, 4)\n"
     ]
    }
   ],
   "source": [
    "emb_t=np.transpose(embeddings,[0,2,1])\n",
    "\n",
    "x_t_r_emb_t_matmul=np.matmul(x_t_r,emb_t)\n",
    "\n",
    "print(x_t_r_emb_t_matmul)\n",
    "print(\"x_t_r_emb_t_matmul shape:\",x_t_r_emb_t_matmul.shape)"
   ]
  },
  {
   "cell_type": "markdown",
   "metadata": {},
   "source": [
    "# 5. (n,b\\*h,n)을 (n,b,h,n)으로 reshape :"
   ]
  },
  {
   "cell_type": "code",
   "execution_count": 12,
   "metadata": {},
   "outputs": [
    {
     "name": "stdout",
     "output_type": "stream",
     "text": [
      "[[[[  44.   23.   18.   18.]\n",
      "   [ 384.  203.   78.   78.]\n",
      "   [ 724.  383.  138.  138.]]\n",
      "\n",
      "  [[1064.  563.  198.  198.]\n",
      "   [1404.  743.  258.  258.]\n",
      "   [1744.  923.  318.  318.]]]\n",
      "\n",
      "\n",
      " [[[ -29.  129.   68.   33.]\n",
      "   [-149.  469.  248.   93.]\n",
      "   [-269.  809.  428.  153.]]\n",
      "\n",
      "  [[-389. 1149.  608.  213.]\n",
      "   [-509. 1489.  788.  273.]\n",
      "   [-629. 1829.  968.  333.]]]\n",
      "\n",
      "\n",
      " [[[  66.  -59.  214.  113.]\n",
      "   [ 146. -179.  554.  293.]\n",
      "   [ 226. -299.  894.  473.]]\n",
      "\n",
      "  [[ 306. -419. 1234.  653.]\n",
      "   [ 386. -539. 1574.  833.]\n",
      "   [ 466. -659. 1914. 1013.]]]\n",
      "\n",
      "\n",
      " [[[  86.   86.  -89.  299.]\n",
      "   [ 166.  166. -209.  639.]\n",
      "   [ 246.  246. -329.  979.]]\n",
      "\n",
      "  [[ 326.  326. -449. 1319.]\n",
      "   [ 406.  406. -569. 1659.]\n",
      "   [ 486.  486. -689. 1999.]]]]\n",
      "x_t_r_emb_t_matmul : (4, 2, 3, 4)\n"
     ]
    }
   ],
   "source": [
    "x_t_r_emb_t_matmul_r=np.reshape(x_t_r_emb_t_matmul,[n,b,h,n])\n",
    "print(x_t_r_emb_t_matmul_r)\n",
    "print(\"x_t_r_emb_t_matmul :\",x_t_r_emb_t_matmul_r.shape)"
   ]
  },
  {
   "cell_type": "markdown",
   "metadata": {},
   "source": [
    "# 6. (n,b,h,n)을 (b,h,n,n)으로 transpose :"
   ]
  },
  {
   "cell_type": "code",
   "execution_count": 13,
   "metadata": {},
   "outputs": [
    {
     "name": "stdout",
     "output_type": "stream",
     "text": [
      "[[[[  44.   23.   18.   18.]\n",
      "   [ -29.  129.   68.   33.]\n",
      "   [  66.  -59.  214.  113.]\n",
      "   [  86.   86.  -89.  299.]]\n",
      "\n",
      "  [[ 384.  203.   78.   78.]\n",
      "   [-149.  469.  248.   93.]\n",
      "   [ 146. -179.  554.  293.]\n",
      "   [ 166.  166. -209.  639.]]\n",
      "\n",
      "  [[ 724.  383.  138.  138.]\n",
      "   [-269.  809.  428.  153.]\n",
      "   [ 226. -299.  894.  473.]\n",
      "   [ 246.  246. -329.  979.]]]\n",
      "\n",
      "\n",
      " [[[1064.  563.  198.  198.]\n",
      "   [-389. 1149.  608.  213.]\n",
      "   [ 306. -419. 1234.  653.]\n",
      "   [ 326.  326. -449. 1319.]]\n",
      "\n",
      "  [[1404.  743.  258.  258.]\n",
      "   [-509. 1489.  788.  273.]\n",
      "   [ 386. -539. 1574.  833.]\n",
      "   [ 406.  406. -569. 1659.]]\n",
      "\n",
      "  [[1744.  923.  318.  318.]\n",
      "   [-629. 1829.  968.  333.]\n",
      "   [ 466. -659. 1914. 1013.]\n",
      "   [ 486.  486. -689. 1999.]]]]\n",
      "x_t_r_emb_t_matmul_r_t shape: (2, 3, 4, 4)\n"
     ]
    }
   ],
   "source": [
    "x_t_r_emb_t_matmul_r_t=np.transpose(x_t_r_emb_t_matmul_r,[1,2,0,3])\n",
    "print(x_t_r_emb_t_matmul_r_t)\n",
    "print(\"x_t_r_emb_t_matmul_r_t shape:\",x_t_r_emb_t_matmul_r_t.shape)"
   ]
  },
  {
   "cell_type": "markdown",
   "metadata": {},
   "source": [
    "# 결과 비교하기 :\n",
    "\n",
    "정의로 구한 값과 행렬 곱으로 구한 값이 같다는 것을 알 수 있다.\n",
    "\n",
    "행렬의 곱의 경우 최적화된 코드로 성능이 더 좋다"
   ]
  },
  {
   "cell_type": "code",
   "execution_count": 14,
   "metadata": {},
   "outputs": [
    {
     "data": {
      "text/plain": [
       "(array([[[[  44.,   23.,   18.,   18.],\n",
       "          [ -29.,  129.,   68.,   33.],\n",
       "          [  66.,  -59.,  214.,  113.],\n",
       "          [  86.,   86.,  -89.,  299.]],\n",
       " \n",
       "         [[ 384.,  203.,   78.,   78.],\n",
       "          [-149.,  469.,  248.,   93.],\n",
       "          [ 146., -179.,  554.,  293.],\n",
       "          [ 166.,  166., -209.,  639.]],\n",
       " \n",
       "         [[ 724.,  383.,  138.,  138.],\n",
       "          [-269.,  809.,  428.,  153.],\n",
       "          [ 226., -299.,  894.,  473.],\n",
       "          [ 246.,  246., -329.,  979.]]],\n",
       " \n",
       " \n",
       "        [[[1064.,  563.,  198.,  198.],\n",
       "          [-389., 1149.,  608.,  213.],\n",
       "          [ 306., -419., 1234.,  653.],\n",
       "          [ 326.,  326., -449., 1319.]],\n",
       " \n",
       "         [[1404.,  743.,  258.,  258.],\n",
       "          [-509., 1489.,  788.,  273.],\n",
       "          [ 386., -539., 1574.,  833.],\n",
       "          [ 406.,  406., -569., 1659.]],\n",
       " \n",
       "         [[1744.,  923.,  318.,  318.],\n",
       "          [-629., 1829.,  968.,  333.],\n",
       "          [ 466., -659., 1914., 1013.],\n",
       "          [ 486.,  486., -689., 1999.]]]]),\n",
       " array([[[[  44.,   23.,   18.,   18.],\n",
       "          [ -29.,  129.,   68.,   33.],\n",
       "          [  66.,  -59.,  214.,  113.],\n",
       "          [  86.,   86.,  -89.,  299.]],\n",
       " \n",
       "         [[ 384.,  203.,   78.,   78.],\n",
       "          [-149.,  469.,  248.,   93.],\n",
       "          [ 146., -179.,  554.,  293.],\n",
       "          [ 166.,  166., -209.,  639.]],\n",
       " \n",
       "         [[ 724.,  383.,  138.,  138.],\n",
       "          [-269.,  809.,  428.,  153.],\n",
       "          [ 226., -299.,  894.,  473.],\n",
       "          [ 246.,  246., -329.,  979.]]],\n",
       " \n",
       " \n",
       "        [[[1064.,  563.,  198.,  198.],\n",
       "          [-389., 1149.,  608.,  213.],\n",
       "          [ 306., -419., 1234.,  653.],\n",
       "          [ 326.,  326., -449., 1319.]],\n",
       " \n",
       "         [[1404.,  743.,  258.,  258.],\n",
       "          [-509., 1489.,  788.,  273.],\n",
       "          [ 386., -539., 1574.,  833.],\n",
       "          [ 406.,  406., -569., 1659.]],\n",
       " \n",
       "         [[1744.,  923.,  318.,  318.],\n",
       "          [-629., 1829.,  968.,  333.],\n",
       "          [ 466., -659., 1914., 1013.],\n",
       "          [ 486.,  486., -689., 1999.]]]]))"
      ]
     },
     "execution_count": 14,
     "metadata": {},
     "output_type": "execute_result"
    }
   ],
   "source": [
    "e_by_def,x_t_r_emb_t_matmul_r_t"
   ]
  }
 ],
 "metadata": {
  "kernelspec": {
   "display_name": "Python 3",
   "language": "python",
   "name": "python3"
  },
  "language_info": {
   "codemirror_mode": {
    "name": "ipython",
    "version": 3
   },
   "file_extension": ".py",
   "mimetype": "text/x-python",
   "name": "python",
   "nbconvert_exporter": "python",
   "pygments_lexer": "ipython3",
   "version": "3.6.8"
  }
 },
 "nbformat": 4,
 "nbformat_minor": 2
}
